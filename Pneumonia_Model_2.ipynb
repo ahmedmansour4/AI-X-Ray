{
  "nbformat": 4,
  "nbformat_minor": 0,
  "metadata": {
    "colab": {
      "name": "Pneumonia_Model_2.ipynb",
      "provenance": [],
      "collapsed_sections": []
    },
    "kernelspec": {
      "name": "python3",
      "display_name": "Python 3"
    },
    "accelerator": "GPU"
  },
  "cells": [
    {
      "cell_type": "code",
      "metadata": {
        "id": "IWkCfOy1gut2"
      },
      "source": [
        "import numpy as np\n",
        "import matplotlib.pyplot as plt\n",
        "from PIL import Image\n",
        "\n",
        "import keras\n",
        "from keras.models import Sequential\n",
        "from keras.layers import Conv2D\n",
        "from keras.layers import MaxPooling2D\n",
        "from keras.layers import Flatten\n",
        "from keras.layers import Dense\n",
        "from keras.preprocessing.image import ImageDataGenerator, load_img\n",
        "from sklearn.metrics import classification_report, confusion_matrix\n",
        "from keras.layers import LeakyReLU\n",
        "import tensorflow as tf\n",
        "from keras import metrics"
      ],
      "execution_count": 6,
      "outputs": []
    },
    {
      "cell_type": "code",
      "metadata": {
        "id": "8XSJAXGYNBin"
      },
      "source": [
        "#from google.colab import drive\n",
        "#drive.mount('/content/drive')"
      ],
      "execution_count": 7,
      "outputs": []
    },
    {
      "cell_type": "code",
      "metadata": {
        "id": "00sfdatNhXEY"
      },
      "source": [
        "# Building CNN\n",
        "\n",
        "cnn = Sequential()\n",
        "\n",
        "# Convolution\n",
        "cnn.add(Conv2D(32, (3, 3), input_shape=(64, 64, 3)))\n",
        "cnn.add(LeakyReLU(0.1))\n",
        "\n",
        "# Pooling\n",
        "cnn.add(MaxPooling2D(pool_size = (2, 2)))\n",
        "\n",
        "# 2nd Convolution\n",
        "cnn.add(Conv2D(32, (3, 3)))\n",
        "cnn.add(LeakyReLU(0.1))\n",
        "\n",
        "# 2nd Pooling layer\n",
        "cnn.add(MaxPooling2D(pool_size = (2, 2)))\n",
        "\n",
        "# # 3rd Convolution\n",
        "cnn.add(Conv2D(32, (2, 2), activation=\"relu\"))\n",
        "cnn.add(MaxPooling2D(pool_size = (2, 2)))\n",
        "\n",
        "# # # 4th layer\n",
        "cnn.add(Conv2D(32, (2, 2), activation=\"relu\"))\n",
        "cnn.add(MaxPooling2D(pool_size = (2, 2)))\n",
        "\n",
        "# Flatten the layer\n",
        "cnn.add(Flatten())\n",
        "\n",
        "# Fully Connected Layers\n",
        "cnn.add(Dense(activation = 'relu', units = 128))\n",
        "cnn.add(Dense(activation = 'sigmoid', units = 1))\n",
        "\n",
        "# Compile the Neural network\n",
        "\n",
        "METRICS = [\n",
        "                'accuracy',\n",
        "                tf.keras.metrics.Precision(name='precision'),\n",
        "                tf.keras.metrics.Recall(name='recall')\n",
        "        ] \n",
        "\n",
        "\n",
        "cnn.compile(optimizer = 'adam', loss = 'binary_crossentropy', metrics = METRICS)"
      ],
      "execution_count": 17,
      "outputs": []
    },
    {
      "cell_type": "code",
      "metadata": {
        "id": "dfXvPu6WiQIC",
        "colab": {
          "base_uri": "https://localhost:8080/"
        },
        "outputId": "fe3246e3-275f-44bb-c58a-10869887fe43"
      },
      "source": [
        "# Fitting the CNN to the images\n",
        "\n",
        "trainDataGenerator = ImageDataGenerator(rescale = 1./255, shear_range = 0.2, zoom_range = 0.2, horizontal_flip = True)\n",
        "\n",
        "testDataGenerator = ImageDataGenerator(rescale = 1./255)\n",
        "\n",
        "# Reducing the image size to make it more managable\n",
        "# Jakobs directory: /content/drive/MyDrive/Machine Learning Final Project/Data/chest_xray/\n",
        "trainingData = trainDataGenerator.flow_from_directory('drive/MyDrive/xray/chest_xray/train', target_size = (64, 64), batch_size = 32, class_mode = 'binary')\n",
        "\n",
        "validationData = testDataGenerator.flow_from_directory('drive/MyDrive/xray/chest_xray/val', target_size=(64, 64), batch_size=32, class_mode='binary')\n",
        "\n",
        "testData = testDataGenerator.flow_from_directory('drive/MyDrive/xray/chest_xray/test', target_size = (64, 64), batch_size = 32, class_mode = 'binary')\n"
      ],
      "execution_count": 18,
      "outputs": [
        {
          "output_type": "stream",
          "text": [
            "Found 5219 images belonging to 2 classes.\n",
            "Found 16 images belonging to 2 classes.\n",
            "Found 624 images belonging to 2 classes.\n"
          ],
          "name": "stdout"
        }
      ]
    },
    {
      "cell_type": "code",
      "metadata": {
        "id": "_nQxa5eFiQaL",
        "colab": {
          "base_uri": "https://localhost:8080/"
        },
        "outputId": "a018d74e-248b-4285-aaec-1a55068d75f5"
      },
      "source": [
        "cnn.summary()"
      ],
      "execution_count": 19,
      "outputs": [
        {
          "output_type": "stream",
          "text": [
            "Model: \"sequential_4\"\n",
            "_________________________________________________________________\n",
            "Layer (type)                 Output Shape              Param #   \n",
            "=================================================================\n",
            "conv2d_11 (Conv2D)           (None, 62, 62, 32)        896       \n",
            "_________________________________________________________________\n",
            "leaky_re_lu_8 (LeakyReLU)    (None, 62, 62, 32)        0         \n",
            "_________________________________________________________________\n",
            "max_pooling2d_11 (MaxPooling (None, 31, 31, 32)        0         \n",
            "_________________________________________________________________\n",
            "conv2d_12 (Conv2D)           (None, 29, 29, 32)        9248      \n",
            "_________________________________________________________________\n",
            "leaky_re_lu_9 (LeakyReLU)    (None, 29, 29, 32)        0         \n",
            "_________________________________________________________________\n",
            "max_pooling2d_12 (MaxPooling (None, 14, 14, 32)        0         \n",
            "_________________________________________________________________\n",
            "conv2d_13 (Conv2D)           (None, 13, 13, 32)        4128      \n",
            "_________________________________________________________________\n",
            "max_pooling2d_13 (MaxPooling (None, 6, 6, 32)          0         \n",
            "_________________________________________________________________\n",
            "conv2d_14 (Conv2D)           (None, 5, 5, 32)          4128      \n",
            "_________________________________________________________________\n",
            "max_pooling2d_14 (MaxPooling (None, 2, 2, 32)          0         \n",
            "_________________________________________________________________\n",
            "flatten_4 (Flatten)          (None, 128)               0         \n",
            "_________________________________________________________________\n",
            "dense_8 (Dense)              (None, 128)               16512     \n",
            "_________________________________________________________________\n",
            "dense_9 (Dense)              (None, 1)                 129       \n",
            "=================================================================\n",
            "Total params: 35,041\n",
            "Trainable params: 35,041\n",
            "Non-trainable params: 0\n",
            "_________________________________________________________________\n"
          ],
          "name": "stdout"
        }
      ]
    },
    {
      "cell_type": "code",
      "metadata": {
        "id": "-JFp1LgXiQyw",
        "colab": {
          "base_uri": "https://localhost:8080/"
        },
        "outputId": "b7371235-ac3c-4ba1-b67a-39eb61905d6b"
      },
      "source": [
        "cnn_model = cnn.fit(trainingData, steps_per_epoch = 100, epochs = 1, validation_data = validationData, validation_steps = 600)"
      ],
      "execution_count": 20,
      "outputs": [
        {
          "output_type": "stream",
          "text": [
            "163/163 [==============================] - ETA: 0s - loss: 0.5258 - accuracy: 0.7544 - precision: 0.7584 - recall: 0.9815WARNING:tensorflow:Your input ran out of data; interrupting training. Make sure that your dataset or generator can generate at least `steps_per_epoch * epochs` batches (in this case, 624 batches). You may need to use the repeat() function when building your dataset.\n",
            "163/163 [==============================] - 60s 365ms/step - loss: 0.5258 - accuracy: 0.7544 - precision: 0.7584 - recall: 0.9815 - val_loss: 0.6313 - val_accuracy: 0.6250 - val_precision: 0.5714 - val_recall: 1.0000\n"
          ],
          "name": "stdout"
        }
      ]
    },
    {
      "cell_type": "code",
      "metadata": {
        "id": "v_aeM84zinzi"
      },
      "source": [
        "test_accu = cnn.evaluate(testData,steps=624)"
      ],
      "execution_count": null,
      "outputs": []
    },
    {
      "cell_type": "code",
      "metadata": {
        "id": "pgYPGeOaipIm"
      },
      "source": [
        "print('The testing accuracy is :',test_accu[1]*100, '%')"
      ],
      "execution_count": null,
      "outputs": []
    },
    {
      "cell_type": "code",
      "metadata": {
        "id": "GHkKVpTDNx_D"
      },
      "source": [
        "M2_3Layer_Data = [80.9, 82.2, 84.5, 78.2, 75.8, 85.7, 73.6, 85.9]\n",
        "M2_4Layer_Data = [78.2, 63.6, 64.7, 82.21, 70.9, 76.3, 72.4, 71.47]\n",
        "M1_Data = [83.45, 85.09, 81.6, 87.18, 85.4, 85.7, 77.24, 81.09]\n",
        "M3_Sigmoid_Data = [62.5, 62.5, 62.5, 62.5, 62.5, 62.5, 62.5, 62.5]\n",
        "M3_LeakReLU_Data = [79.48, 82.05, 87.5, 83.5, 79.6, 79.0, 81.7, 84.1]\n",
        "trialCount = [1, 2, 3, 4, 5, 6, 7, 8]\n",
        "def plot_data(xData, yData, mainTitle, xTitle, yTitle, legendTitle, color):\n",
        "  plt.plot(xData, yData, label=legendTitle, color=color)\n",
        "  plt.title(mainTitle)\n",
        "  plt.xlabel(xTitle)\n",
        "  plt.ylabel(yTitle)\n",
        "  plt.legend(bbox_to_anchor=(1, 1))\n",
        "\n",
        "plot_data(trialCount, M2_3Layer_Data, \"Test Accuracies\", \"Trial #\", \"Accuracy(%)\", \"Method 2 Accuracies: 3 Layers\", \"blue\")\n",
        "plot_data(trialCount, M2_4Layer_Data, \"Test Accuracies\", \"Trial #\", \"Accuracy(%)\", \"Method 2 Accuracies: 4 Layers\", \"orange\")\n",
        "plot_data(trialCount, M1_Data, \"Test Accuracies\", \"Trial #\", \"Accuracy(%)\", \"Method 1 Test Accuracies\", \"red\")\n",
        "plot_data(trialCount, M3_Sigmoid_Data, \"Test Accuracies\", \"Trial #\", \"Accuracy(%)\", \"Method 3 Accuracies: Sigmoid\", \"green\")\n",
        "plot_data(trialCount, M3_LeakReLU_Data, \"Test Accuracies\", \"Trial #\", \"Accuracy(%)\", \"Method 3 Accuracies: Leaky ReLU\", \"violet\")\n",
        "\n",
        "plt.show()\n",
        "\n",
        "\n",
        "\n",
        "def plot_bar_graph(Title, xtitle, ytitle):\n",
        "\n",
        "  methods = ['Method 1', 'Method 2: 3 Layers', 'Method 2: 4 Layers', 'Method 3: Sigmoid', 'Method 4: LeakyReLU']\n",
        "  xMethods = ['M1', 'M2.3L', 'M2.4L', 'M3.SIG', 'M4.L-RELU']\n",
        "\n",
        "  average_times = [61.6, 60.1, 58.0, 59.0, 59.0]\n",
        "\n",
        "  plt.bar(xMethods, average_times, width=0.35, color=['black', 'red', 'green', 'blue', 'cyan'])\n",
        "  plt.xlabel(xtitle)\n",
        "  plt.ylabel(ytitle)\n",
        "  plt.title(Title)\n",
        "  plt.show()\n",
        "\n",
        "\n",
        "\n",
        "plot_bar_graph(\"Method Computation Times\", \"Method\", \"Computation Time (s)\")\n"
      ],
      "execution_count": null,
      "outputs": []
    }
  ]
}